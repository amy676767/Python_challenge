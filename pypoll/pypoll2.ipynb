{
 "cells": [
  {
   "cell_type": "code",
   "execution_count": 47,
   "metadata": {},
   "outputs": [
    {
     "name": "stdout",
     "output_type": "stream",
     "text": [
      "<_csv.reader object at 0x00000198126D9EE8>\n",
      "63.0 2218231 Khan\n",
      "20.0 704200 Correy\n",
      "14.0 492940 Li\n",
      "3.0 105630 O'Tooley\n",
      "2218231 Khan\n"
     ]
    }
   ],
   "source": [
    "import csv\n",
    "import os\n",
    "\n",
    "# use dictionary to combine two columns : voters and candidcates \n",
    "voter={}\n",
    "winner=0\n",
    "win=\"\"\n",
    "\n",
    "csvpath = os.path.join(\"election_data.csv\")\n",
    "\n",
    "with open(csvpath, newline='') as csvfile:\n",
    "       #skip the header row\n",
    "       #csvfile.readline()abs\n",
    "       reader = csv.reader(csvfile, delimiter=',')\n",
    "       print(reader)\n",
    "       next(reader)\n",
    "       # next statement skip header\n",
    "\n",
    "       for i in reader:\n",
    "# take voter id values add that column info to voter dictornation\n",
    "# use if condition\n",
    "            if i[2]in voter:\n",
    "                  voter[i[2]]+=1\n",
    "            else:\n",
    "                  voter[i[2]]=1\n",
    "       total_sum=sum(voter.values())\n",
    "       for key, value in voter.items():\n",
    "            percentage=round((value/total_sum)*100,3)\n",
    "            if value>winner:\n",
    "                winner=value\n",
    "                win=key\n",
    "            print(percentage,value,key)\n",
    "       print(winner,win)\n",
    "       \n",
    "            "
   ]
  },
  {
   "cell_type": "code",
   "execution_count": null,
   "metadata": {},
   "outputs": [],
   "source": []
  }
 ],
 "metadata": {
  "kernelspec": {
   "display_name": "Python 3",
   "language": "python",
   "name": "python3"
  },
  "language_info": {
   "codemirror_mode": {
    "name": "ipython",
    "version": 3
   },
   "file_extension": ".py",
   "mimetype": "text/x-python",
   "name": "python",
   "nbconvert_exporter": "python",
   "pygments_lexer": "ipython3",
   "version": "3.7.3"
  }
 },
 "nbformat": 4,
 "nbformat_minor": 2
}
