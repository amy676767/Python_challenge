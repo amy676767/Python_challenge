{
 "cells": [
  {
   "cell_type": "code",
   "execution_count": 51,
   "metadata": {},
   "outputs": [
    {
     "ename": "IndentationError",
     "evalue": "unindent does not match any outer indentation level (<tokenize>, line 23)",
     "output_type": "error",
     "traceback": [
      "\u001b[1;36m  File \u001b[1;32m\"<tokenize>\"\u001b[1;36m, line \u001b[1;32m23\u001b[0m\n\u001b[1;33m    for i in findtotalM:\u001b[0m\n\u001b[1;37m    ^\u001b[0m\n\u001b[1;31mIndentationError\u001b[0m\u001b[1;31m:\u001b[0m unindent does not match any outer indentation level\n"
     ]
    }
   ],
   "source": [
    "import csv\n",
    "import os\n",
    "\n",
    "\n",
    "csvpath = os.path.join(\"budget_data.csv\")\n",
    "q2=[]\n",
    "previousmonth=0\n",
    "totaldelta=[]\n",
    "maxincrease=0\n",
    "maxdecrease=999999999999\n",
    "with open(csvpath, newline='') as csvfile:\n",
    "        #skip the header row\n",
    "        #csvfile.readline()abs\n",
    "        reader = csv.reader(csvfile, delimiter=',')\n",
    "        print(reader)\n",
    "        next(reader)\n",
    "        # next statement skip header\n",
    "        findtotalM=list(reader)\n",
    "        # use list method to do calcualtion \n",
    "        q1=len(findtotalM)\n",
    "        print(q1)\n",
    " \n",
    "    for i in findtotalM:\n",
    "            \n",
    "            #print(i)\n",
    "            #append is the method \n",
    "            value=int(i[1])\n",
    "            q2.append(value)\n",
    "            delta=value-previousmonth\n",
    "            previousmonth=value\n",
    "            #print(delta)\n",
    "            totaldelta.append(delta)\n",
    "        if delta> maxincrease:\n",
    "                maxincrease=delta\n",
    "                datemax=i[0]\n",
    "        if delta< maxdecrease:\n",
    "                maxdecrease=delta\n",
    "                datemin=i[0]\n",
    "        #print(totaldelta[1:])\n",
    "        average=sum(totaldelta[1:])/len(totaldelta[1:])\n",
    "        print(average)    \n",
    "        totalsum =sum(q2)\n",
    "        print(totalsum)\n",
    "            #convert reader to list\n",
    "            #pyhton can only apply avg to list\n",
    "        print(\"max increase is \"+str(datemax)+\" with amount $\"+str(maxincrease))\n",
    "        print(\"max decrease is \"+str(datemin)+\"(\"+str(maxdecrease)+\")\")\n",
    "       \n",
    "        "
   ]
  },
  {
   "cell_type": "code",
   "execution_count": null,
   "metadata": {},
   "outputs": [],
   "source": [
    "csvreader = csv.reader(csvfile, delimiter=',')"
   ]
  },
  {
   "cell_type": "code",
   "execution_count": null,
   "metadata": {},
   "outputs": [],
   "source": []
  },
  {
   "cell_type": "code",
   "execution_count": null,
   "metadata": {},
   "outputs": [],
   "source": []
  }
 ],
 "metadata": {
  "kernelspec": {
   "display_name": "Python 3",
   "language": "python",
   "name": "python3"
  },
  "language_info": {
   "codemirror_mode": {
    "name": "ipython",
    "version": 3
   },
   "file_extension": ".py",
   "mimetype": "text/x-python",
   "name": "python",
   "nbconvert_exporter": "python",
   "pygments_lexer": "ipython3",
   "version": "3.7.3"
  }
 },
 "nbformat": 4,
 "nbformat_minor": 2
}
