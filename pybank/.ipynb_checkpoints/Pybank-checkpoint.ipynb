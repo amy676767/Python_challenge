{
 "cells": [
  {
   "cell_type": "code",
   "execution_count": 27,
   "metadata": {},
   "outputs": [
    {
     "name": "stdout",
     "output_type": "stream",
     "text": [
      "<_csv.reader object at 0x0000022AE8D719A0>\n",
      "total month is 86\n",
      "total sum is $ 38382578\n",
      "average of total is $ -2315.12\n",
      "max increase is Feb-2012 with amount $1926159\n",
      "max decrease is $ Sep-2013(-2196167)\n"
     ]
    }
   ],
   "source": [
    "import csv\n",
    "import os\n",
    "\n",
    "\n",
    "csvpath = os.path.join(\"budget_data.csv\")\n",
    "q2=[]\n",
    "previousmonth=0\n",
    "totaldelta=[]\n",
    "maxincrease=0\n",
    "maxdecrease=999999999999\n",
    "with open(csvpath, newline='') as csvfile:\n",
    "       #skip the header row\n",
    "       #csvfile.readline()abs\n",
    "       reader = csv.reader(csvfile, delimiter=',')\n",
    "       print(reader)\n",
    "       next(reader)\n",
    "       # next statement skip header\n",
    "       findtotalM=list(reader)\n",
    "       # use list method to do calcualtion\n",
    "       q1=len(findtotalM)\n",
    "       print(\"total month is \"+str(q1))\n",
    "\n",
    "       for i in findtotalM:\n",
    "\n",
    "           #print(i)\n",
    "           #append is the method\n",
    "           value=int(i[1])\n",
    "           q2.append(value)\n",
    "           delta=value-previousmonth\n",
    "           previousmonth=value\n",
    "           #print(delta)\n",
    "           totaldelta.append(delta)\n",
    "           if delta> maxincrease:\n",
    "               maxincrease=delta\n",
    "               datemax=i[0]\n",
    "           if delta< maxdecrease:\n",
    "               maxdecrease=delta\n",
    "               datemin=i[0]\n",
    "       #print(totaldelta[1:])\n",
    "       average=sum(totaldelta[1:])/len(totaldelta[1:])\n",
    "       print(\"total sum is $ \"+str(totalsum))\n",
    "       print(\"average of total is $ \" +str(round((average),2)))\n",
    "       totalsum =sum(q2)\n",
    "      \n",
    "           #convert reader to list\n",
    "           #pyhton can only apply avg to list\n",
    "       print(\"max increase is \"+str(datemax)+\" with amount $\"+str(maxincrease))\n",
    "       print(\"max decrease is $ \"+str(datemin)+\"(\"+str(maxdecrease)+\")\")\n",
    "       with open('pybank.txt', 'w', newline='') as f:\n",
    "            f.write(\"Total month is \"+str(q1))\n",
    "            f.write(\"\\n\")\n",
    "\n",
    "            f.write((\"Total sum is $ \"+str(totalsum)))\n",
    "            f.write(\"\\n\")\n",
    "            f.write(\"Average of total is $ \" +str(round((average),2)))\n",
    "            f.write(\"\\n\")\n",
    "            f.write(\"Max increase is \"+str(datemax)+\" with amount $\"+str(maxincrease))\n",
    "            f.write(\"\\n\")\n",
    "            f.write(\"Max decrease is $ \"+str(datemin)+\"(\"+str(maxdecrease)+\")\")\n",
    "        "
   ]
  },
  {
   "cell_type": "code",
   "execution_count": null,
   "metadata": {},
   "outputs": [],
   "source": [
    "csvreader = csv.reader(csvfile, delimiter=',')"
   ]
  },
  {
   "cell_type": "code",
   "execution_count": null,
   "metadata": {},
   "outputs": [],
   "source": []
  },
  {
   "cell_type": "code",
   "execution_count": null,
   "metadata": {},
   "outputs": [],
   "source": []
  }
 ],
 "metadata": {
  "kernelspec": {
   "display_name": "Python 3",
   "language": "python",
   "name": "python3"
  },
  "language_info": {
   "codemirror_mode": {
    "name": "ipython",
    "version": 3
   },
   "file_extension": ".py",
   "mimetype": "text/x-python",
   "name": "python",
   "nbconvert_exporter": "python",
   "pygments_lexer": "ipython3",
   "version": "3.7.3"
  }
 },
 "nbformat": 4,
 "nbformat_minor": 2
}
